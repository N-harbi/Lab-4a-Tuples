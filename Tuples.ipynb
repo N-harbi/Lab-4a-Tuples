{
  "nbformat": 4,
  "nbformat_minor": 0,
  "metadata": {
    "colab": {
      "provenance": [],
      "include_colab_link": true
    },
    "kernelspec": {
      "name": "python3",
      "display_name": "Python 3"
    },
    "language_info": {
      "name": "python"
    }
  },
  "cells": [
    {
      "cell_type": "markdown",
      "metadata": {
        "id": "view-in-github",
        "colab_type": "text"
      },
      "source": [
        "<a href=\"https://colab.research.google.com/github/N-harbi/Lab-4a-Tuples/blob/main/Tuples.ipynb\" target=\"_parent\"><img src=\"https://colab.research.google.com/assets/colab-badge.svg\" alt=\"Open In Colab\"/></a>"
      ]
    },
    {
      "cell_type": "markdown",
      "source": [
        "# Tuples in Python\n",
        "A tuple in Python is an ordered, immutable sequence of elements. Tuples are defined using parentheses and can contain elements of different data types, including other tuples. Once a tuple is created, its elements cannot be modified, added, or removed. This immutability makes tuples suitable for representing fixed collections of data.\n",
        "\n",
        "## Objective\n",
        "- Comprehend the application of tuples\n",
        "- Understand how a tuple uses a memory\n",
        "- Apply various operations on tuples\n",
        "\n",
        "## Prerequisite\n",
        "\n",
        "- Lists\n",
        "- Decision and loops\n",
        "- Input functions\n",
        "- Python literals\n",
        "- Programming variables\n",
        "\n",
        "\n",
        "## What do you need to complete this exercise?\n",
        "\n",
        "You can perform this exercise in any Python IDE, including JupyterLab or Google Colab.\n"
      ],
      "metadata": {
        "id": "2ITy4ycVFXBq"
      }
    },
    {
      "cell_type": "markdown",
      "source": [
        "# 1. Exercising tuples\n",
        "\n",
        "1a) Take five inputs from an user and save it in a tuple called ```my_tuple```"
      ],
      "metadata": {
        "id": "uQxH0KO0tsDc"
      }
    },
    {
      "cell_type": "code",
      "source": [
        "my_tuple = tuple(input(\"Enter five values separated by space: \").split()[:5])\n",
        "print(\"Tuple:\", my_tuple)"
      ],
      "metadata": {
        "id": "rRTflD1C9mjt"
      },
      "execution_count": null,
      "outputs": []
    },
    {
      "cell_type": "markdown",
      "source": [
        "1b. How do you assign a single element in a tuple?"
      ],
      "metadata": {
        "id": "0jkTuRdlA6sk"
      }
    },
    {
      "cell_type": "code",
      "source": [
        "my_tuple = (1, 2, 3, 4, 5)\n",
        "new_tuple = my_tuple[:2] + (99,) + my_tuple[3:]\n",
        "print(\"modified tuple:\", new_tuple)"
      ],
      "metadata": {
        "id": "8ZIVOfAMQt2Z",
        "colab": {
          "base_uri": "https://localhost:8080/"
        },
        "outputId": "2d98d784-22d6-45a7-cd85-95a7b83f0690"
      },
      "execution_count": 3,
      "outputs": [
        {
          "output_type": "stream",
          "name": "stdout",
          "text": [
            "modified tuple: (1, 2, 99, 4, 5)\n"
          ]
        }
      ]
    },
    {
      "cell_type": "markdown",
      "source": [
        "1c. ```my_tuple = (1,2,3,4,3,2,1,2,3,5,4,3,2,1)```\n",
        "Count the repeated integers and print the result on the console."
      ],
      "metadata": {
        "id": "Wv1LOaouA_Gq"
      }
    },
    {
      "cell_type": "code",
      "source": [
        "my_tuple = (1, 2, 3, 4, 3, 2, 1, 2, 3, 5, 4, 3, 2, 1)\n",
        "from collections import Counter\n",
        "count_dict = Counter(my_tuple)\n",
        "print(\"count of repeated integers:\", count_dict)"
      ],
      "metadata": {
        "id": "cF0UyMIqQ8V3",
        "colab": {
          "base_uri": "https://localhost:8080/"
        },
        "outputId": "3300a382-5f13-42a9-d4f7-3075cf1f299e"
      },
      "execution_count": 9,
      "outputs": [
        {
          "output_type": "stream",
          "name": "stdout",
          "text": [
            "count of repeated integers: Counter({2: 4, 3: 4, 1: 3, 4: 2, 5: 1})\n"
          ]
        }
      ]
    },
    {
      "cell_type": "markdown",
      "source": [
        "1d. ```my_tuple = my_tuple + my_tuple```\n",
        "\n",
        "\n",
        "Proof that ```my_tuple``` in part c is different than the ```my_tuple``` in part d.\n"
      ],
      "metadata": {
        "id": "0IWZsl7LBGvD"
      }
    },
    {
      "cell_type": "code",
      "source": [
        "print(\"Tuple from part a:\", my_tuple)\n",
        "print(\"Tuple from part c:\", my_tuple)\n",
        "\n",
        "print(\"Are they the same?\", my_tuple == my_tuple)"
      ],
      "metadata": {
        "id": "S5kO371-Q_NL",
        "colab": {
          "base_uri": "https://localhost:8080/"
        },
        "outputId": "f29a5eb4-928a-4e8a-953f-2d0d0f06aaab"
      },
      "execution_count": 4,
      "outputs": [
        {
          "output_type": "stream",
          "name": "stdout",
          "text": [
            "Tuple from part a: (1, 2, 3, 4, 5)\n",
            "Tuple from part c: (1, 2, 3, 4, 5)\n",
            "Are they the same? True\n"
          ]
        }
      ]
    },
    {
      "cell_type": "markdown",
      "source": [
        "1e. Explain why the following operations aren’t legal for\n",
        "the tuple. Answer without using the Python.\n",
        "```\n",
        "x = (1,2,3,4)\n",
        "x.append(1)\n",
        "x[1] = \"hello\"\n",
        "del x[2]\n",
        "```"
      ],
      "metadata": {
        "id": "gdub5W3O0isl"
      }
    },
    {
      "cell_type": "markdown",
      "source": [
        "1. x.append(1) - Tuples do not support the append method becouse they are immutable. lists, on the other hand, allow appending new elements.\n",
        "2. x[1]= \"hello\" - This operation tries tuple, which is not allowed. Once a tuple is created, its elements cannot be changed or reassigned.\n",
        "3. del x[2] - This operation attempts to delete an element from the tuple, which is also not allowed due to its immutability. You can delete the entire tuple using tuple using del x, but not individual elements."
      ],
      "metadata": {
        "id": "q8dJSPCMyJfT"
      }
    },
    {
      "cell_type": "markdown",
      "source": [
        "# 2. Packing and unpacking tuples"
      ],
      "metadata": {
        "id": "tJlIQIYjBPLX"
      }
    },
    {
      "cell_type": "markdown",
      "source": [
        "Python permits tuples to appear on the left side of an assignment operator, in which case variables in the tuple receive the corresponding values from the tuple on the right side of the assignment operator. Here’s a simple example:"
      ],
      "metadata": {
        "id": "QkNQDkq7zAOr"
      }
    },
    {
      "cell_type": "code",
      "source": [
        "(one, two, three, four) =  (1, 2, 3, 4)"
      ],
      "metadata": {
        "id": "70JnWsa6zE0M"
      },
      "execution_count": 5,
      "outputs": []
    },
    {
      "cell_type": "markdown",
      "source": [
        "2a. What is the data type of each variable?"
      ],
      "metadata": {
        "id": "O0-uz6MdzJ4a"
      }
    },
    {
      "cell_type": "markdown",
      "source": [
        "one - int(1)\n",
        "\n",
        "two - int(2)\n",
        "\n",
        "three - int(3)\n",
        "\n",
        "four - int(4)"
      ],
      "metadata": {
        "id": "phjG5DkaqIbV"
      }
    },
    {
      "cell_type": "markdown",
      "source": [
        "2b. Python has an extended unpacking feature, allowing an element marked with * to absorb any number of elements not matching the other elements. For example,"
      ],
      "metadata": {
        "id": "6vXaWJBczn5u"
      }
    },
    {
      "cell_type": "code",
      "source": [
        "x = (1, 2, 3, 4)\n",
        "a, b, *c = x\n",
        "a, b, c"
      ],
      "metadata": {
        "colab": {
          "base_uri": "https://localhost:8080/"
        },
        "id": "Dkgby1wqzyx8",
        "outputId": "9ad06ee7-725b-45eb-84af-aa74c9d2d746"
      },
      "execution_count": 6,
      "outputs": [
        {
          "output_type": "execute_result",
          "data": {
            "text/plain": [
              "(1, 2, [3, 4])"
            ]
          },
          "metadata": {},
          "execution_count": 6
        }
      ]
    },
    {
      "cell_type": "markdown",
      "source": [
        "The `*c` in the unpacking collects all remaining elements into a list.\n",
        "so, `a` gets `1`, `b` gets `2`, and `c` gets `[3, 4]`.\n",
        "This is why the output is `(1, 2, [3 4]`."
      ],
      "metadata": {
        "id": "tulBgQLFsMhA"
      }
    },
    {
      "cell_type": "markdown",
      "source": [
        "2c. What will be the result of ```a, *b, c = x```?"
      ],
      "metadata": {
        "id": "l9xBGV0K0L6_"
      }
    },
    {
      "cell_type": "code",
      "source": [
        "x = (1, 2, 3, 4)\n",
        "a, *b, c = x\n",
        "print(a) # Output:1\n",
        "print(b) # Output: [2, 3]\n",
        "print(c) # Output: 4"
      ],
      "metadata": {
        "colab": {
          "base_uri": "https://localhost:8080/"
        },
        "id": "7U2PrG-SrP1i",
        "outputId": "d0fb7441-a20c-4034-d752-2068bb1edbb3"
      },
      "execution_count": 7,
      "outputs": [
        {
          "output_type": "stream",
          "name": "stdout",
          "text": [
            "1\n",
            "[2, 3]\n",
            "4\n"
          ]
        }
      ]
    },
    {
      "cell_type": "markdown",
      "source": [
        "# 3. Memory management\n",
        "\n",
        "```\n",
        "my_x = [100,200,300,400]\n",
        "my_y = (200,300,400,500)\n",
        "\n",
        "```\n",
        "Discuss how memory addresses are assigned to each index of the list and the tuple. Pay attention to new addresses & re-used addresses.\n",
        "\n",
        "| Index | my_x | my_x |\n",
        "|   -   |  -   |  -   |\n",
        "|   0   |   -  |  -   |\n",
        "|   1   |   -  |  -   |\n",
        "|   2   |   -  |  -   |\n",
        "|   3   |   -  |  -   |\n",
        "\n"
      ],
      "metadata": {
        "id": "QV96NnL82MPT"
      }
    },
    {
      "cell_type": "markdown",
      "source": [
        "In the Python, lists (my_x) and tuples (my_y) handle memory differently.\n",
        "Liast are mutable, so Python allocates separate memory for the list itself and references each element inside it. Tuples are immutable, so Python tries to reuse memory addresses when possible. when checking memory addresses with id(), we can see that value in the tuples (my_y) reeuse existing memory locations from the  list (my_x) if the same values exist, whereas new values (like 500) get a fresh memory allocation."
      ],
      "metadata": {
        "id": "gZh0ZdAltNou"
      }
    },
    {
      "cell_type": "markdown",
      "source": [
        "## Challenges\n",
        "\n",
        "Please describe the challenges you faced during the exercise."
      ],
      "metadata": {
        "id": "xQzjxKdvvbyo"
      }
    },
    {
      "cell_type": "markdown",
      "source": [
        "Write your challenges here"
      ],
      "metadata": {
        "id": "qfJNpTB5EbY4"
      }
    },
    {
      "cell_type": "markdown",
      "source": [
        "i didn't face any challenges during this exercise."
      ],
      "metadata": {
        "id": "ZOSJAWMrvHcZ"
      }
    }
  ]
}